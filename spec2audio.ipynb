{
 "cells": [
  {
   "cell_type": "code",
   "execution_count": null,
   "metadata": {},
   "outputs": [],
   "source": [
    "from processing import *\n",
    "\n",
    "\n",
    "spec = inference(\n",
    "    model_repo=\"darinchau/comp5421-project-sage-lake-20-comp5421-mel-spectrogram-step-2560\",\n",
    "    seed = 1943\n",
    ")"
   ]
  },
  {
   "cell_type": "code",
   "execution_count": null,
   "metadata": {},
   "outputs": [],
   "source": [
    "audio = mel_to_audio(spec[0, 0], TARGET_SR)\n",
    "audio /= np.max(np.abs(audio))"
   ]
  },
  {
   "cell_type": "code",
   "execution_count": null,
   "metadata": {},
   "outputs": [],
   "source": [
    "from IPython.display import Audio\n",
    "Audio(audio, rate=TARGET_SR)"
   ]
  },
  {
   "cell_type": "code",
   "execution_count": null,
   "metadata": {},
   "outputs": [],
   "source": [
    "# Save audio as mp3\n",
    "from scipy.io import wavfile\n",
    "wavfile.write(\"output.wav\", TARGET_SR, audio)\n",
    "!ffmpeg -i output.wav output.mp3"
   ]
  }
 ],
 "metadata": {
  "kernelspec": {
   "display_name": ".venv",
   "language": "python",
   "name": "python3"
  },
  "language_info": {
   "codemirror_mode": {
    "name": "ipython",
    "version": 3
   },
   "file_extension": ".py",
   "mimetype": "text/x-python",
   "name": "python",
   "nbconvert_exporter": "python",
   "pygments_lexer": "ipython3",
   "version": "3.12.4"
  }
 },
 "nbformat": 4,
 "nbformat_minor": 2
}
