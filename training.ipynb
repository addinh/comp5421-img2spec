{
 "cells": [
  {
   "cell_type": "code",
   "execution_count": 1,
   "metadata": {},
   "outputs": [
    {
     "name": "stderr",
     "output_type": "stream",
     "text": [
      "c:\\Users\\Darin\\Documents\\Repository\\comp5421-img2spec\\.venv\\Lib\\site-packages\\tqdm\\auto.py:21: TqdmWarning: IProgress not found. Please update jupyter and ipywidgets. See https://ipywidgets.readthedocs.io/en/stable/user_install.html\n",
      "  from .autonotebook import tqdm as notebook_tqdm\n",
      "Note: Environment variable`HF_TOKEN` is set and is the current active token independently from the token you've just configured.\n"
     ]
    }
   ],
   "source": [
    "from processing import COMP5421Config\n",
    "config = COMP5421Config()"
   ]
  },
  {
   "cell_type": "code",
   "execution_count": 2,
   "metadata": {},
   "outputs": [
    {
     "name": "stderr",
     "output_type": "stream",
     "text": [
      "Note: Environment variable`HF_TOKEN` is set and is the current active token independently from the token you've just configured.\n"
     ]
    }
   ],
   "source": [
    "import os\n",
    "import torch\n",
    "from torchvision import datasets, transforms\n",
    "from torchvision.utils import make_grid\n",
    "from diffusers import DDPMScheduler, UNet2DModel\n",
    "from datasets import load_dataset\n",
    "from torch.utils.data import DataLoader\n",
    "from tqdm import tqdm\n",
    "import huggingface_hub\n",
    "from tqdm import tqdm, trange\n",
    "from dataclasses import asdict\n",
    "from dotenv import load_dotenv\n",
    "\n",
    "load_dotenv()\n",
    "\n",
    "huggingface_hub.login(os.getenv(\"HF_TOKEN\"))\n",
    "\n",
    "device = torch.device(\"cuda\" if torch.cuda.is_available() else \"cpu\")\n",
    "\n",
    "model = UNet2DModel(\n",
    "    sample_size=config.img_dims,\n",
    "    in_channels=1,\n",
    "    out_channels=1,\n",
    "    layers_per_block=2,\n",
    "    block_out_channels=(32, 64, 64),\n",
    "    down_block_types=(\"DownBlock2D\", \"AttnDownBlock2D\", \"DownBlock2D\"),\n",
    "    up_block_types=(\"UpBlock2D\", \"AttnUpBlock2D\", \"UpBlock2D\")\n",
    ").to(device)\n",
    "\n",
    "# Load the dataset\n",
    "#If you need this dataset lmk - Darin\n",
    "dataset = load_dataset(config.dataset_src)\n",
    "\n",
    "def collate_fn(batch):\n",
    "    mels = [torch.tensor(item['mel']).unsqueeze(0) for item in batch]  # Adding channel dimension\n",
    "    mels = torch.stack(mels).to(device)  # Shape will be [batch_size, 1, 128, 432]\n",
    "    return mels\n",
    "\n",
    "train_test = dataset['train'].train_test_split(test_size=config.val_size)\n",
    "train_loader = DataLoader(train_test['train'], batch_size=config.batch_size, shuffle=True, collate_fn=collate_fn)\n",
    "val_loader = DataLoader(train_test['test'], batch_size=config.batch_size, shuffle=False, collate_fn=collate_fn)"
   ]
  },
  {
   "cell_type": "code",
   "execution_count": null,
   "metadata": {},
   "outputs": [
    {
     "name": "stderr",
     "output_type": "stream",
     "text": [
      "\u001b[34m\u001b[1mwandb\u001b[0m: Using wandb-core as the SDK backend.  Please refer to https://wandb.me/wandb-core for more information.\n",
      "\u001b[34m\u001b[1mwandb\u001b[0m: \u001b[33mWARNING\u001b[0m If you're specifying your api key in code, ensure this code is not shared publicly.\n",
      "\u001b[34m\u001b[1mwandb\u001b[0m: \u001b[33mWARNING\u001b[0m Consider setting the WANDB_API_KEY environment variable, or running `wandb login` from the command line.\n",
      "\u001b[34m\u001b[1mwandb\u001b[0m: Appending key for api.wandb.ai to your netrc file: C:\\Users\\Darin\\.netrc\n",
      "\u001b[34m\u001b[1mwandb\u001b[0m: Currently logged in as: \u001b[33myfdchau\u001b[0m to \u001b[32mhttps://api.wandb.ai\u001b[0m. Use \u001b[1m`wandb login --relogin`\u001b[0m to force relogin\n"
     ]
    },
    {
     "data": {
      "text/html": [
       "Tracking run with wandb version 0.19.8"
      ],
      "text/plain": [
       "<IPython.core.display.HTML object>"
      ]
     },
     "metadata": {},
     "output_type": "display_data"
    },
    {
     "data": {
      "text/html": [
       "Run data is saved locally in <code>c:\\Users\\Darin\\Documents\\Repository\\comp5421-img2spec\\wandb\\run-20250322_133355-4xdgy4fb</code>"
      ],
      "text/plain": [
       "<IPython.core.display.HTML object>"
      ]
     },
     "metadata": {},
     "output_type": "display_data"
    },
    {
     "data": {
      "text/html": [
       "Syncing run <strong><a href='https://wandb.ai/yfdchau/comp5421-project/runs/4xdgy4fb' target=\"_blank\">revived-river-5</a></strong> to <a href='https://wandb.ai/yfdchau/comp5421-project' target=\"_blank\">Weights & Biases</a> (<a href='https://wandb.me/developer-guide' target=\"_blank\">docs</a>)<br>"
      ],
      "text/plain": [
       "<IPython.core.display.HTML object>"
      ]
     },
     "metadata": {},
     "output_type": "display_data"
    },
    {
     "data": {
      "text/html": [
       " View project at <a href='https://wandb.ai/yfdchau/comp5421-project' target=\"_blank\">https://wandb.ai/yfdchau/comp5421-project</a>"
      ],
      "text/plain": [
       "<IPython.core.display.HTML object>"
      ]
     },
     "metadata": {},
     "output_type": "display_data"
    },
    {
     "data": {
      "text/html": [
       " View run at <a href='https://wandb.ai/yfdchau/comp5421-project/runs/4xdgy4fb' target=\"_blank\">https://wandb.ai/yfdchau/comp5421-project/runs/4xdgy4fb</a>"
      ],
      "text/plain": [
       "<IPython.core.display.HTML object>"
      ]
     },
     "metadata": {},
     "output_type": "display_data"
    },
    {
     "name": "stderr",
     "output_type": "stream",
     "text": [
      "Epoch 1/10:   0%|          | 3/11165 [01:14<74:07:07, 23.90s/it]"
     ]
    }
   ],
   "source": [
    "import wandb\n",
    "\n",
    "noise_scheduler = DDPMScheduler(num_train_timesteps=1000)\n",
    "optimizer = torch.optim.AdamW(model.parameters(), lr=config.learning_rate)\n",
    "loss_func = torch.nn.MSELoss()\n",
    "\n",
    "api_key = os.getenv(\"WANDB_API_KEY\")\n",
    "wandb.login(key=api_key)\n",
    "\n",
    "# Comment out this line if you dont need logging\n",
    "wandb.init(\n",
    "    project=config.training_name,\n",
    "    config=asdict(config)\n",
    ")\n",
    "\n",
    "def validate(model, loader, noise_scheduler, loss_func):\n",
    "    val_loss = 0.0\n",
    "    val_count = 0\n",
    "    for val_batch in tqdm(val_loader, desc=\"Validating...\", total=config.val_step):\n",
    "        val_count += 1\n",
    "        noise = torch.randn_like(batch)\n",
    "        timesteps = torch.randint(0, noise_scheduler.config.num_train_timesteps, (config.batch_size,), device=device, dtype=torch.int64)\n",
    "        noisy_batch = noise_scheduler.add_noise(batch, noise, timesteps)\n",
    "        noise_pred = model(noisy_batch, timesteps)[0]\n",
    "        loss = loss_func(noise_pred, noise)\n",
    "        val_loss += loss\n",
    "        if val_count >= config.val_step:\n",
    "            break\n",
    "    return val_loss / val_count\n",
    "\n",
    "# Training Loop\n",
    "step_count = 0\n",
    "for epoch in range(config.num_epochs):\n",
    "    model.train()\n",
    "    epoch_loss = 0.0\n",
    "    for batch in tqdm(train_loader, desc=f'Epoch {epoch + 1}/{config.num_epochs}'):\n",
    "        step_count += 1\n",
    "        optimizer.zero_grad()\n",
    "\n",
    "        # Add noise\n",
    "        noise = torch.randn_like(batch)\n",
    "        timesteps = torch.randint(0, noise_scheduler.config.num_train_timesteps, (config.batch_size,), device=device, dtype=torch.int64)\n",
    "        noisy_batch = noise_scheduler.add_noise(batch, noise, timesteps)\n",
    "\n",
    "        # Forward pass\n",
    "        noise_pred = model(noisy_batch, timesteps)[0]\n",
    "\n",
    "        # Loss\n",
    "        loss = loss_func(noise_pred, noise)\n",
    "        loss.backward()\n",
    "        optimizer.step()\n",
    "\n",
    "        if step_count > 0 and step_count % config.val_step == 0:\n",
    "            with torch.no_grad():\n",
    "                val_loss = validate(model, val_loader, noise_scheduler, loss_func)\n",
    "            wandb.log({\"val_batch_loss\": val_loss.item()}, step=step_count)\n",
    "\n",
    "        epoch_loss += loss.item()\n",
    "        wandb.log({\"batch_loss\": loss.item()}, step=step_count)\n",
    "\n",
    "    average_epoch_loss = epoch_loss / len(train_loader)\n",
    "    print(f'Epoch {epoch + 1} completed, Average Loss: {average_epoch_loss}')\n",
    "    wandb.log({\"epoch_loss\": average_epoch_loss}, step=step_count)\n",
    "\n",
    "wandb.finish()\n",
    "print(\"Training completed.\")"
   ]
  }
 ],
 "metadata": {
  "kernelspec": {
   "display_name": ".venv",
   "language": "python",
   "name": "python3"
  },
  "language_info": {
   "codemirror_mode": {
    "name": "ipython",
    "version": 3
   },
   "file_extension": ".py",
   "mimetype": "text/x-python",
   "name": "python",
   "nbconvert_exporter": "python",
   "pygments_lexer": "ipython3",
   "version": "3.12.4"
  }
 },
 "nbformat": 4,
 "nbformat_minor": 2
}
